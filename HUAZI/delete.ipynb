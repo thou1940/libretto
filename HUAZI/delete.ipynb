{
 "cells": [
  {
   "cell_type": "code",
   "execution_count": 3,
   "metadata": {},
   "outputs": [
    {
     "name": "stdout",
     "output_type": "stream",
     "text": [
      "所有CDL文件的修改已完成。\n"
     ]
    }
   ],
   "source": [
    "import os\n",
    "import re\n",
    "\n",
    "def modify_cdl_file(file_path):\n",
    "    with open(file_path, 'r') as file:\n",
    "        lines = file.readlines()\n",
    "    \n",
    "    new_lines = []\n",
    "    for line in lines:\n",
    "        # 删除 w= 以及 =号后面到下一个空格的内容，包括空格\n",
    "        line = re.sub(r'w=\\S+\\s*', '', line)\n",
    "        \n",
    "        # 将修改后的行添加到 new_lines 列表中\n",
    "        new_lines.append(line)\n",
    "    \n",
    "    # 写回修改后的内容\n",
    "    with open(file_path, 'w') as file:\n",
    "        file.writelines(new_lines)\n",
    "\n",
    "# 获取当前目录下所有的CDL文件\n",
    "cdl_files = [f for f in os.listdir('.') if f.endswith('.cdl')]\n",
    "\n",
    "for cdl_file in cdl_files:\n",
    "    modify_cdl_file(cdl_file)\n",
    "\n",
    "print(\"所有CDL文件的修改已完成。\")\n"
   ]
  },
  {
   "cell_type": "code",
   "execution_count": 5,
   "metadata": {},
   "outputs": [
    {
     "name": "stdout",
     "output_type": "stream",
     "text": [
      "所有CDL文件的修改已完成。\n"
     ]
    }
   ],
   "source": [
    "import os\n",
    "\n",
    "def modify_cdl_file(file_path):\n",
    "    with open(file_path, 'r') as file:\n",
    "        lines = file.readlines()\n",
    "    \n",
    "    new_lines = []\n",
    "    for line in lines:\n",
    "        # 将行按空格分割\n",
    "        parts = line.split()\n",
    "        \n",
    "        # 检查是否有足够的单词（至少有5个部分）\n",
    "        if len(parts) > 4:\n",
    "            # 获取第四个空格后的单词\n",
    "            target_word = parts[4]\n",
    "            \n",
    "            # 根据条件替换单词\n",
    "            if target_word == \"VNW\":\n",
    "                parts[4] = \"VPW\"\n",
    "            elif target_word == \"VPW\":\n",
    "                parts[4] = \"VNW\"\n",
    "            \n",
    "            # 将修改后的行重新组合\n",
    "            line = ' '.join(parts) + '\\n'\n",
    "        \n",
    "        # 将修改后的行添加到 new_lines 列表中\n",
    "        new_lines.append(line)\n",
    "    \n",
    "    # 写回修改后的内容\n",
    "    with open(file_path, 'w') as file:\n",
    "        file.writelines(new_lines)\n",
    "\n",
    "# 获取当前目录下所有的CDL文件\n",
    "cdl_files = [f for f in os.listdir('.') if f.endswith('.cdl')]\n",
    "\n",
    "for cdl_file in cdl_files:\n",
    "    modify_cdl_file(cdl_file)\n",
    "\n",
    "print(\"所有CDL文件的修改已完成。\")\n"
   ]
  }
 ],
 "metadata": {
  "kernelspec": {
   "display_name": "hwintern",
   "language": "python",
   "name": "python3"
  },
  "language_info": {
   "codemirror_mode": {
    "name": "ipython",
    "version": 3
   },
   "file_extension": ".py",
   "mimetype": "text/x-python",
   "name": "python",
   "nbconvert_exporter": "python",
   "pygments_lexer": "ipython3",
   "version": "3.12.3"
  }
 },
 "nbformat": 4,
 "nbformat_minor": 2
}
